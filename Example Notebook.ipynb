{
 "metadata": {
  "name": "Example Notebook"
 },
 "nbformat": 3,
 "nbformat_minor": 0,
 "worksheets": [
  {
   "cells": [
    {
     "cell_type": "markdown",
     "metadata": {},
     "source": "#It Works!\n\nNow, let's get down to business."
    },
    {
     "cell_type": "code",
     "collapsed": false,
     "input": "import datetime\nimport random\n\nprint \"So far, so good!\"\nprint random.random()",
     "language": "python",
     "metadata": {},
     "outputs": [
      {
       "output_type": "stream",
       "stream": "stdout",
       "text": "So far, so good!\n0.320454025772\n"
      }
     ],
     "prompt_number": 52
    },
    {
     "cell_type": "code",
     "collapsed": false,
     "input": "import numpy as np\nimport pandas as pd\nimport matplotlib as plt\nfrom pandas.io.data import DataReader\n\n%matplotlib\n",
     "language": "python",
     "metadata": {},
     "outputs": [
      {
       "output_type": "stream",
       "stream": "stdout",
       "text": "Using matplotlib backend: agg\n"
      }
     ],
     "prompt_number": 53
    },
    {
     "cell_type": "code",
     "collapsed": false,
     "input": "start = datetime.datetime(2010, 1, 1)\nend = datetime.datetime(2010, 12, 31)\ndata = DataReader(\"F\", \"google\", start, end)\ndata.head()\n",
     "language": "python",
     "metadata": {},
     "outputs": [
      {
       "html": "<div style=\"max-height:1000px;max-width:1500px;overflow:auto;\">\n<table border=\"1\" class=\"dataframe\">\n  <thead>\n    <tr style=\"text-align: right;\">\n      <th></th>\n      <th>Open</th>\n      <th>High</th>\n      <th>Low</th>\n      <th>Close</th>\n      <th>Volume</th>\n    </tr>\n    <tr>\n      <th>\ufeffDate</th>\n      <th></th>\n      <th></th>\n      <th></th>\n      <th></th>\n      <th></th>\n    </tr>\n  </thead>\n  <tbody>\n    <tr>\n      <th>2010-01-01</th>\n      <td>     -</td>\n      <td>     -</td>\n      <td>     -</td>\n      <td> 10.00</td>\n      <td>         0</td>\n    </tr>\n    <tr>\n      <th>2010-01-04</th>\n      <td> 10.17</td>\n      <td> 10.28</td>\n      <td> 10.05</td>\n      <td> 10.28</td>\n      <td>  60855796</td>\n    </tr>\n    <tr>\n      <th>2010-01-05</th>\n      <td> 10.45</td>\n      <td> 11.24</td>\n      <td> 10.40</td>\n      <td> 10.96</td>\n      <td> 215620138</td>\n    </tr>\n    <tr>\n      <th>2010-01-06</th>\n      <td> 11.21</td>\n      <td> 11.46</td>\n      <td> 11.13</td>\n      <td> 11.37</td>\n      <td> 200070554</td>\n    </tr>\n    <tr>\n      <th>2010-01-07</th>\n      <td> 11.46</td>\n      <td> 11.69</td>\n      <td> 11.32</td>\n      <td> 11.66</td>\n      <td> 130201626</td>\n    </tr>\n  </tbody>\n</table>\n<p>5 rows \u00d7 5 columns</p>\n</div>",
       "metadata": {},
       "output_type": "pyout",
       "prompt_number": 54,
       "text": "             Open   High    Low  Close     Volume\n\ufeffDate                                            \n2010-01-01      -      -      -  10.00          0\n2010-01-04  10.17  10.28  10.05  10.28   60855796\n2010-01-05  10.45  11.24  10.40  10.96  215620138\n2010-01-06  11.21  11.46  11.13  11.37  200070554\n2010-01-07  11.46  11.69  11.32  11.66  130201626\n\n[5 rows x 5 columns]"
      }
     ],
     "prompt_number": 54
    },
    {
     "cell_type": "code",
     "collapsed": false,
     "input": "",
     "language": "python",
     "metadata": {},
     "outputs": []
    }
   ],
   "metadata": {}
  }
 ]
}